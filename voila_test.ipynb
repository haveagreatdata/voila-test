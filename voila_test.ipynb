{
 "cells": [
  {
   "cell_type": "code",
   "execution_count": null,
   "metadata": {},
   "outputs": [],
   "source": [
    "from math import pi, sin\n",
    "\n",
    "import numpy as np\n",
    "import pandas as pd\n",
    "import plotly.express as px\n",
    "\n",
    "from ipywidgets import interact\n",
    "\n",
    "\n",
    "def plot_sin(offset):\n",
    "    x = np.linspace(-2 * pi, 2 * pi, 100)\n",
    "    df = pd.DataFrame(zip(x, [sin(e + offset) for e in x]), columns=[\"x\", \"y\"])\n",
    "    return px.line(df, x=\"x\", y=\"y\")\n",
    "\n",
    "\n",
    "interact(plot_sin, offset=(0, 2 * pi))"
   ]
  },
  {
   "cell_type": "code",
   "execution_count": null,
   "metadata": {},
   "outputs": [],
   "source": []
  }
 ],
 "metadata": {
  "kernelspec": {
   "display_name": "Python 3",
   "language": "python",
   "name": "python3"
  },
  "language_info": {
   "codemirror_mode": {
    "name": "ipython",
    "version": 3
   },
   "file_extension": ".py",
   "mimetype": "text/x-python",
   "name": "python",
   "nbconvert_exporter": "python",
   "pygments_lexer": "ipython3",
   "version": "3.8.3"
  }
 },
 "nbformat": 4,
 "nbformat_minor": 4
}
